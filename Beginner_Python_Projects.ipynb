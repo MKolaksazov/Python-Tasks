{
  "nbformat": 4,
  "nbformat_minor": 0,
  "metadata": {
    "colab": {
      "name": "Beginner Python Projects.ipynb",
      "provenance": [],
      "collapsed_sections": [],
      "authorship_tag": "ABX9TyOytbpLsdOiIV/DoqIu1XJI",
      "include_colab_link": true
    },
    "kernelspec": {
      "display_name": "Python 3",
      "name": "python3"
    },
    "language_info": {
      "name": "python"
    }
  },
  "cells": [
    {
      "cell_type": "markdown",
      "metadata": {
        "id": "view-in-github",
        "colab_type": "text"
      },
      "source": [
        "<a href=\"https://colab.research.google.com/github/MKolaksazov/Python-Tasks/blob/main/Beginner_Python_Projects.ipynb\" target=\"_parent\"><img src=\"https://colab.research.google.com/assets/colab-badge.svg\" alt=\"Open In Colab\"/></a>"
      ]
    },
    {
      "cell_type": "markdown",
      "metadata": {
        "id": "9xJFwRvgsPdD"
      },
      "source": [
        "1) Guess the number \n",
        "------------------------------------------------\n",
        "\n",
        "---\n",
        "\n",
        "\n",
        "\n",
        "</br> This is a game, in which a random integer number will be \n",
        "</br>generated within a certain border.\n",
        "\n",
        "The object is to guess the number with fewest possible hints from \n",
        "</br>the computer. The player starts with a maximal amount of score </br>points, which will decrease after each hint from the computer. \n",
        "\n"
      ]
    },
    {
      "cell_type": "markdown",
      "metadata": {
        "id": "SHdBXLUrh7ka"
      },
      "source": [
        "For this project, we will be needing the random number generator, \n",
        "</br>thus we import the **`randrange`** library"
      ]
    },
    {
      "cell_type": "code",
      "metadata": {
        "id": "hRbins4oiHyw"
      },
      "source": [
        "from random import randrange"
      ],
      "execution_count": null,
      "outputs": []
    },
    {
      "cell_type": "markdown",
      "metadata": {
        "id": "r41Be29YiJT3"
      },
      "source": [
        "It generates random integer numbers in the given range (start to finish)"
      ]
    },
    {
      "cell_type": "markdown",
      "metadata": {
        "id": "I7jqQdgGifUd"
      },
      "source": [
        "After that, we need to initialize the needed variables:"
      ]
    },
    {
      "cell_type": "code",
      "metadata": {
        "id": "r84hUZkjikKF"
      },
      "source": [
        "start = 0 # lowest border of numbers \n",
        "finish = 10 # upper border of numbers\n",
        "number = randrange(start, finish, 1) # randomly generated integer\n",
        "score = 100 # initial score of the player\n",
        "case = 0 # the index of the hint we will receive\n",
        "answer = None # our answer"
      ],
      "execution_count": null,
      "outputs": []
    },
    {
      "cell_type": "markdown",
      "metadata": {
        "id": "OC_GAC_kkTJU"
      },
      "source": [
        "We also need to write a *function*, which will import the number from the keyboard input"
      ]
    },
    {
      "cell_type": "code",
      "metadata": {
        "id": "REBANJ6_kp1H"
      },
      "source": [
        "def check_input(inputed):\n",
        "  inputed = int(inputed)\n",
        "  while (isinstance(inputed, int)==False or inputed<start or inputed>finish):\n",
        "    print(type(inputed))\n",
        "    if isinstance(inputed, int):\n",
        "      print('Wrong input! Must be between ', start, ' and ', finish, '!')\n",
        "    else:\n",
        "      print('Wrong input! Must be integer!')\n",
        "    inputed = input()\n",
        "\n",
        "  return inputed"
      ],
      "execution_count": null,
      "outputs": []
    },
    {
      "cell_type": "markdown",
      "metadata": {
        "id": "13SF8eNPkuac"
      },
      "source": [
        "The function has the ability to check the input and throw error \n",
        "</br>message, if the input is not within the desired limits, \n",
        "</br>or is in a different format."
      ]
    },
    {
      "cell_type": "markdown",
      "metadata": {
        "id": "dD7uRZXglp_W"
      },
      "source": [
        "Next we write the function to give the player some hint about the number"
      ]
    },
    {
      "cell_type": "code",
      "metadata": {
        "id": "fBzWAj8YlzVN"
      },
      "source": [
        "def hints(answerred):\n",
        "\n",
        "  prime = \"Prime\"\n",
        "  even_odd = 'Even' if number%2==0 else 'Odd'\n",
        "  bigger_5 = 'Larger than 5' if number>(finish/2) else 'Smaller than ' + str(finish/2)\n",
        "  bigger_num = 'Larger than answer' if number>answerred else 'Smaller than answer'\n",
        "  diff = answerred-number if number<answerred else number-answerred\n",
        "  difference = \"Difference is \" + str(diff)\n",
        "  \n",
        "  # list() with items, accessible by the index: list(items, ...)[index]\n",
        "  hint = (prime, \n",
        "        even_odd, \n",
        "        bigger_5, \n",
        "        bigger_num, \n",
        "        difference)[case]\n",
        "\n",
        "  return hint"
      ],
      "execution_count": null,
      "outputs": []
    },
    {
      "cell_type": "markdown",
      "metadata": {
        "id": "pwP-Q0y_l1GS"
      },
      "source": [
        "The PYTHON language does not have the `switch` / `case` functionality, thus we use a `list()` indexing. \n",
        "</br>In this type of functionality a list with items (hints) is given, and each item is accessed by the index. \n",
        "</br>As you can see, the items can contain conditional statements. In our case we use the 'tertiary' operator in python.\n",
        "\n",
        "It returns the first value if the condition is met, otherwise it returns the other variable after the `else` keyword."
      ]
    },
    {
      "cell_type": "markdown",
      "metadata": {
        "id": "LX7-vc77qEUY"
      },
      "source": [
        "Finally, we start a while loop, until the number is guessed, </br> computer runs out of hints. \n",
        "\n",
        "Every time a number is guessed wrong, the next hint appears </br> and the score points decrease, based on the difficulty of the hint."
      ]
    },
    {
      "cell_type": "code",
      "metadata": {
        "colab": {
          "base_uri": "https://localhost:8080/"
        },
        "id": "T0ATV3crsHwZ",
        "outputId": "aaa5aea5-6f98-46e5-9224-697dc12e00e3"
      },
      "source": [
        "print('Guess the number between: ', start, 'and ', finish)\n",
        "\n",
        "# starting the loop until all hints are given, or the number is guessed\n",
        "while (case<5 and answer != number):\n",
        "  answer = input()\n",
        "  answer = check_input(answer)\n",
        "  if answer == number:\n",
        "    print('Correct!')\n",
        "    break  \n",
        "  case += 1\n",
        "\n",
        "  # every time our guess is wrong, a hint is given, based on its difficulty\n",
        "  # accordingly points from our score are removed\n",
        "  score = score - ((case - .5) * 10)\n",
        "  print('You have ', score, ' points left.')\n",
        "  if score <= 0:\n",
        "     print('Sorry!')\n",
        "     break\n",
        "  print(hints(answer))\n",
        "  print('Try again')"
      ],
      "execution_count": null,
      "outputs": [
        {
          "output_type": "stream",
          "name": "stdout",
          "text": [
            "Guess the number between:  0 and  10\n",
            "5\n",
            "Prime\n",
            "You have  95.0  points left.\n",
            "Try again\n",
            "4\n",
            "Even\n",
            "You have  80.0  points left.\n",
            "Try again\n",
            "3\n",
            "Larger than 5\n",
            "You have  55.0  points left.\n",
            "Try again\n",
            "1\n",
            "Larger than answer\n",
            "You have  20.0  points left.\n",
            "Try again\n",
            "7\n",
            "Difference is 1\n",
            "You have  -25.0  points left.\n",
            "Sorry!\n"
          ]
        }
      ]
    },
    {
      "cell_type": "markdown",
      "metadata": {
        "id": "J3Owkw_TsUdI"
      },
      "source": [
        "2) Dice Rolling Simulator\n",
        "----------------------------------\n",
        "\n",
        "---\n",
        "\n",
        "\n",
        "</br>Rolls N number dices with sides, marked from 1 to 6"
      ]
    },
    {
      "cell_type": "markdown",
      "metadata": {
        "id": "esPhSuvKyxgn"
      },
      "source": [
        "Of course, the very first thing we will do is to import the random </br>number generator in the given range (in our case from 1 to 6 </br>or how many are the sides of the dice)"
      ]
    },
    {
      "cell_type": "code",
      "metadata": {
        "id": "7C2HImP0yv-5"
      },
      "source": [
        "from random import randrange # random number generator within a range"
      ],
      "execution_count": null,
      "outputs": []
    },
    {
      "cell_type": "markdown",
      "metadata": {
        "id": "0PNpVHIdzHCC"
      },
      "source": [
        "Next, we will initialize the variables (as you can see, </br> they are straitforward)"
      ]
    },
    {
      "cell_type": "code",
      "metadata": {
        "id": "YqczDDqnzFe7"
      },
      "source": [
        "start = 1\n",
        "finish = 6\n",
        "dice = [] # an empty array for the dice readings\n",
        "dice_ammount = None \n",
        "quit = False # monitors if the key q was pressed"
      ],
      "execution_count": null,
      "outputs": []
    },
    {
      "cell_type": "markdown",
      "metadata": {
        "id": "JtrsTc4TzazS"
      },
      "source": [
        "We use function, which captures the exceptions </br> from the keyboard input. (integer between 1 and 10 for the amount of dices; </br>10 dices is enough!)"
      ]
    },
    {
      "cell_type": "code",
      "metadata": {
        "id": "df5iVn_szXdL"
      },
      "source": [
        "def check_input():\n",
        "  inputed = None\n",
        "  while True:\n",
        "    try:\n",
        "      inputed = int(input('Enter a number between 1 and 10: '))\n",
        "      if (inputed<1 or inputed>10):\n",
        "        print('Wrong input! Must be between 1 and 10!')\n",
        "      else:\n",
        "        break\n",
        "    except ValueError:\n",
        "      if isinstance(inputed, int)==False:\n",
        "        print('Wrong input! Must be integer!')\n",
        "\n",
        "  return inputed"
      ],
      "execution_count": null,
      "outputs": []
    },
    {
      "cell_type": "markdown",
      "metadata": {
        "id": "qm5oE08Cz2vr"
      },
      "source": [
        "A function, to monitor if the user presses the 'q' key </br>(as **<q\\>** for **q**uit) is inserted."
      ]
    },
    {
      "cell_type": "code",
      "metadata": {
        "id": "XPsHR7lBz1DK"
      },
      "source": [
        "def press_q(q):\n",
        "  if input() == 'q':  # if key 'q' is pressed \n",
        "    q = True\n",
        "  return q"
      ],
      "execution_count": null,
      "outputs": []
    },
    {
      "cell_type": "markdown",
      "metadata": {
        "id": "uz0KlnQB0g7E"
      },
      "source": [
        "The function to roll the required amount of dices uses while loop, </br>which is active until the variable amount becomes equal to 0.</br>Every time a dice roll was generated, it is appended to array.</br> The function returns this array with dice readings and their sum."
      ]
    },
    {
      "cell_type": "code",
      "metadata": {
        "id": "2inYs39u0e7_"
      },
      "source": [
        "def roll_dice(amount):\n",
        "  while(amount!=0):\n",
        "    number = randrange(start, finish, 1)\n",
        "    amount = amount - 1\n",
        "    dice.append(number)\n",
        "  return dice, sum(dice)"
      ],
      "execution_count": null,
      "outputs": []
    },
    {
      "cell_type": "markdown",
      "metadata": {
        "id": "nrYQbGnI1Ff0"
      },
      "source": [
        "Finaly, the realisation of the program includes while loop until </br>the key <**q**\\> was pressed. After every roll this dice array </br> nullifies, and the console asks user to continue another dice roll, </br> or to exit."
      ]
    },
    {
      "cell_type": "code",
      "metadata": {
        "colab": {
          "base_uri": "https://localhost:8080/"
        },
        "id": "_Dj03kYxCkAv",
        "outputId": "2d99dcfa-d1ee-4838-cdbb-51970969d750"
      },
      "source": [
        "while(quit == False):\n",
        "  print('How many dice do you want?')\n",
        "  dice_amount = check_input()\n",
        "  rolled = roll_dice(dice_amount)\n",
        "  print('Dice: ', rolled[0], ' Sum is: ', rolled[1])\n",
        "  print('Do you like to roll the dice again? Press any key to continue; <q> for exit')\n",
        "  quit = press_q(quit)\n",
        "  dice = []\n",
        "\n",
        "print('Goodbye!')"
      ],
      "execution_count": null,
      "outputs": [
        {
          "output_type": "stream",
          "name": "stdout",
          "text": [
            "How many dice do you want?\n",
            "Enter a number between 1 and 10: e\n",
            "Wrong input! Must be integer!\n",
            "Enter a number between 1 and 10: 3232\n",
            "Wrong input! Must be between 1 and 10!\n",
            "Enter a number between 1 and 10: 5\n",
            "Dice:  [1, 4, 1, 2, 1]  Sum is:  9\n",
            "Do you like to roll the dice again? Press any key to continue; <q> for exit\n",
            "w\n",
            "How many dice do you want?\n",
            "Enter a number between 1 and 10: 4\n",
            "Dice:  [4, 3, 5, 4]  Sum is:  16\n",
            "Do you like to roll the dice again? Press any key to continue; <q> for exit\n",
            "q\n",
            "Goodbye!\n"
          ]
        }
      ]
    },
    {
      "cell_type": "markdown",
      "metadata": {
        "id": "zReTqWSWA698"
      },
      "source": [
        "3) Hangman \n",
        "----------------------------\n",
        "\n",
        "---\n",
        "\n",
        "\n",
        "</br> Guess the word.\n",
        "</br>This is the famous game 'Hangman' in which the user tries to guess </br>random word, written with dashes only. Every time the user guesses </br>a letter, this letter is written on the corresponding places in the </br>word. Every time the guess is wrong, the score decreases, and a new </br>stick is added to the gallow, until the player is 'hanged'. \n",
        "\n",
        "</br>\n",
        "</br> For now, the game applies only two words in the wordlist (hangman </br>and python), but this list could be replased with a list, written  </br>from a .txt file."
      ]
    },
    {
      "cell_type": "markdown",
      "metadata": {
        "id": "Lrh80QJL4cnn"
      },
      "source": [
        "In this game, we make only two library imports: \n",
        "</br>the random generator within range and the regex (regular </br>expressions) library that will be used for the letter substitution."
      ]
    },
    {
      "cell_type": "code",
      "metadata": {
        "id": "HUoPpOU44cvh"
      },
      "source": [
        "from random import randrange\n",
        "import re #regex, regular expressions"
      ],
      "execution_count": null,
      "outputs": []
    },
    {
      "cell_type": "markdown",
      "metadata": {
        "id": "VIKjQobk5EtI"
      },
      "source": [
        "We initialise only three variables:    \n",
        "</br>The wordlist (could be a .txt file instead)\n",
        "</br>the amount of 'lives' or the starting score\n",
        "</br> the monitoring variable for pressed <**q**\\> key"
      ]
    },
    {
      "cell_type": "code",
      "metadata": {
        "id": "SF-uBW0M5FWU"
      },
      "source": [
        "words = ['hangman', 'python'] # the list with words, could be used a txt file instead\n",
        "score = 5 # number of 'lives'\n",
        "quit = False"
      ],
      "execution_count": null,
      "outputs": []
    },
    {
      "cell_type": "markdown",
      "metadata": {
        "id": "OTyjIxLE5rJI"
      },
      "source": [
        "The function for capturing exceptions from the console input:   \n",
        "</br> it checks if the input represents a single letter from the alphabet."
      ]
    },
    {
      "cell_type": "code",
      "metadata": {
        "id": "th9Qlq2S5rQ5"
      },
      "source": [
        "def check_input():\n",
        "  inputed = None\n",
        "  while True:\n",
        "    try:\n",
        "      inputed = str(input())\n",
        "      if inputed.isalpha() == True: # checks if the input is a letter from the alphabet\n",
        "        break\n",
        "    except ValueError:\n",
        "      if inputed.isalpha() == False:\n",
        "        print('Wrong input! Must be a single letter from A to Z!')\n",
        "      else:\n",
        "        print('Error!')\n",
        "\n",
        "  return inputed"
      ],
      "execution_count": null,
      "outputs": []
    },
    {
      "cell_type": "markdown",
      "metadata": {
        "id": "ltHm92CL5uee"
      },
      "source": [
        "The monitoring function for q key"
      ]
    },
    {
      "cell_type": "code",
      "metadata": {
        "id": "2B1IYqDq5umA"
      },
      "source": [
        "def press_q(q):\n",
        "  if input() == 'q':  \n",
        "    q = True\n",
        "  return q"
      ],
      "execution_count": null,
      "outputs": []
    },
    {
      "cell_type": "markdown",
      "metadata": {
        "id": "zNtLHiFg6Sd4"
      },
      "source": [
        "We use two nested while loops. The first is for the program itself. </br> It picks on a random principle a single word from the list (array or </br>the .txt file) and replaces the letters with low dashes. The second </br>while loops until the word is guessed. It searches the word for the </br>guessed letter and replaces the dashes with it or reduces the score."
      ]
    },
    {
      "cell_type": "code",
      "metadata": {
        "colab": {
          "base_uri": "https://localhost:8080/"
        },
        "id": "jLx7tYbEBBPV",
        "outputId": "06493089-c58a-46ff-f572-39df4dcfa45d"
      },
      "source": [
        "while(quit == False):\n",
        "  random_num = randrange(0, len(words)) # uses the length of wordlist as a range\n",
        "  word_chosen = words[random_num]\n",
        "  # joins the letters inside the word with a space -> ' '\n",
        "  # this string variable will be used later to compare index with the dashed string\n",
        "  word_chosen = ''.join([char + ' ' for pos, char in enumerate(word_chosen)])\n",
        "  # replaces the letters with a low dash '_'\n",
        "  encoded_word = re.sub('[0-9a-zA-Z]', '_', word_chosen)\n",
        "\n",
        "  while(score > 0):\n",
        "    if encoded_word.count('_') == 0: # every letter was guessed\n",
        "      print('You win!')\n",
        "      break\n",
        "\n",
        "    print(encoded_word)\n",
        "    print('Guess the word! Enter a single letter from A to Z.')\n",
        "    letter = check_input()\n",
        "    \n",
        "    if letter in word_chosen:\n",
        "      # we use the function enumerate() because the str() does not support indexing\n",
        "      positions = [pos for pos, char in enumerate(word_chosen) if char == letter]\n",
        "\n",
        "      # Alternative variant:\n",
        "      #string = string[:position] + new_character + string[position+1:]\n",
        "\n",
        "      # here we replace the low dashes '_' with the guessed letter\n",
        "      # before that the word is converted in a list of chars\n",
        "      temp = list(encoded_word)\n",
        "      for p in positions:\n",
        "        temp[p] = letter\n",
        "      encoded_word = \"\".join(temp)\n",
        "    else:\n",
        "      print('not found')\n",
        "      score = score - 1\n",
        "      print('You have ', score, ' lives left!')\n",
        "\n",
        "  print('Do you like to play again? Press any key to continue; <q> for exit')\n",
        "  quit = press_q(quit)\n",
        "\n",
        "  # nullifying the variables for the next game!\n",
        "  word_chosen = ''e\n",
        "  encoded_word = ''\n",
        "  score = 5\n",
        "\n",
        "print('Goodbye!')"
      ],
      "execution_count": null,
      "outputs": [
        {
          "output_type": "stream",
          "name": "stdout",
          "text": [
            "7\n",
            "_ _ _ _ _ _ _ \n",
            "Guess the word! Enter a single letter from A to Z.\n",
            "e\n",
            "not found\n",
            "You have  4  lives left!\n",
            "7\n",
            "_ _ _ _ _ _ _ \n",
            "Guess the word! Enter a single letter from A to Z.\n",
            "e\n",
            "not found\n",
            "You have  3  lives left!\n",
            "7\n",
            "_ _ _ _ _ _ _ \n",
            "Guess the word! Enter a single letter from A to Z.\n",
            "r\n",
            "not found\n",
            "You have  2  lives left!\n",
            "7\n",
            "_ _ _ _ _ _ _ \n",
            "Guess the word! Enter a single letter from A to Z.\n",
            "e\n",
            "not found\n",
            "You have  1  lives left!\n",
            "7\n",
            "_ _ _ _ _ _ _ \n",
            "Guess the word! Enter a single letter from A to Z.\n",
            "w\n",
            "not found\n",
            "You have  0  lives left!\n",
            "Do you like to play again? Press any key to continue; <q> for exit\n",
            "e\n",
            "6\n",
            "_ _ _ _ _ _ \n",
            "Guess the word! Enter a single letter from A to Z.\n",
            "p\n",
            "5\n",
            "p _ _ _ _ _ \n",
            "Guess the word! Enter a single letter from A to Z.\n",
            "y\n",
            "4\n",
            "p y _ _ _ _ \n",
            "Guess the word! Enter a single letter from A to Z.\n",
            "t\n",
            "3\n",
            "p y t _ _ _ \n",
            "Guess the word! Enter a single letter from A to Z.\n",
            "h\n",
            "2\n",
            "p y t h _ _ \n",
            "Guess the word! Enter a single letter from A to Z.\n",
            "o\n",
            "1\n",
            "p y t h o _ \n",
            "Guess the word! Enter a single letter from A to Z.\n",
            "n\n",
            "0\n",
            "You win!\n",
            "Do you like to play again? Press any key to continue; <q> for exit\n",
            "q\n",
            "Goodbye!\n"
          ]
        }
      ]
    },
    {
      "cell_type": "markdown",
      "metadata": {
        "id": "GmQI_PuwGOsN"
      },
      "source": [
        "4) Rock, Paper, Scissors\n",
        "---------------------------\n",
        "\n",
        "---\n",
        "\n",
        "\n",
        "Again a famous game, this time the user must guess between rock, paper </br>and scissors to beat the guess of the computer. \n",
        "\n",
        "Despite having only three items to guess, the game was fairly difficult </br>for realisation.\n",
        "\n",
        "The game repeats and records the score player vs. computer, until required."
      ]
    },
    {
      "cell_type": "code",
      "metadata": {
        "id": "QiadUUfQ_wxR"
      },
      "source": [
        "# again the famous random generator library\n",
        "from random import randint"
      ],
      "execution_count": null,
      "outputs": []
    },
    {
      "cell_type": "code",
      "metadata": {
        "id": "9HmxKb0A_591"
      },
      "source": [
        "# initialisation of the scores\n",
        "играч_точки = 0\n",
        "комп_точки = 0\n",
        "key = None # key pressed"
      ],
      "execution_count": null,
      "outputs": []
    },
    {
      "cell_type": "markdown",
      "metadata": {
        "id": "zicM1yVtAbwD"
      },
      "source": [
        "To let the computer know which item beats the next, we record the rules </br>as a dictionary, where the winning item is written before the losing. </br> We also initialise a dictionary with the indexes of the items."
      ]
    },
    {
      "cell_type": "code",
      "metadata": {
        "id": "eubQfByWAabA"
      },
      "source": [
        "# Setting the rules: or which beats which\n",
        "combinations = {'r-s': 'rock breaks scissors', 'p-r': 'paper envelopes rock', 's-p': 'scissors cut paper'}\n",
        "moves = {1: 'r', 2: 'p', 3: 's'}"
      ],
      "execution_count": null,
      "outputs": []
    },
    {
      "cell_type": "markdown",
      "metadata": {
        "id": "Eyw_vS_uELPV"
      },
      "source": [
        "A function to implement the gameplay and return the score"
      ]
    },
    {
      "cell_type": "code",
      "metadata": {
        "id": "-4vczz3uBRuZ"
      },
      "source": [
        "def gameplay(играч_точки, комп_точки):\n",
        "\n",
        "  comp_move = moves[randomize] #randomize the computer move\n",
        "  battle = key + '-' + comp_move #stringifies the items of choise\n",
        "\n",
        "  # the easier variant, however is to use the enumerate() function for the item indexes \n",
        "  комп_принт = [word for position, word in enumerate(['rock', 'paper', 'scissors']) if position == randomize - 1]\n",
        "  print('Computer played: ', комп_принт[0])\n",
        "\n",
        "  # Instead of writing a combination matrix, here we implement a dictionary string, \n",
        "  # showing the beating sequence. We check if the player vs. computer combinations\n",
        "  # are string from the dictionary. The overall combinations are nine from three \n",
        "  # items, but we will use only three because we will compare to the reverse as well.\n",
        "  # Lastly, we will search if the result is not from the dictionary, therefore\n",
        "  # these are the no-win situations.\n",
        "  for c in combinations:\n",
        "    if battle == c:\n",
        "      print('you win')\n",
        "      играч_точки = играч_точки + 1\n",
        "    elif battle[::-1] == c:\n",
        "      print('comp wins')\n",
        "      комп_точки = комп_точки + 1\n",
        "    elif key == comp_move:\n",
        "      print('noone wins')\n",
        "      break\n",
        "  # this function appends 1 to the score of the winner, and returns the result\n",
        "  return играч_точки, комп_точки"
      ],
      "execution_count": null,
      "outputs": []
    },
    {
      "cell_type": "markdown",
      "metadata": {
        "id": "YN36Db9zEJPm"
      },
      "source": [
        "A function to check the keyboard input and catch exceptions\n",
        "\n",
        "Input of only four keys from the keyboard is allowed"
      ]
    },
    {
      "cell_type": "code",
      "metadata": {
        "id": "QXD55-oDEHdc"
      },
      "source": [
        "def check_input():\n",
        "  inputed = None\n",
        "  while True:\n",
        "    try:\n",
        "      inputed = input('Press a key: <r>, <p>, <s>, or <q>')\n",
        "      #if inputed == 'q' or inputed == 'r' or inputed == 'p' or inputed == 's':\n",
        "      inputed = [letter for position, letter in enumerate(['p', 'q', 'r', 's']) if letter == inputed]\n",
        "      inputed = str(inputed[0])\n",
        "      break\n",
        "    except IndexError:\n",
        "      print('Wrong input! Press a key: <r>, <p>, <s>, or <q>')\n",
        "\n",
        "  return inputed"
      ],
      "execution_count": null,
      "outputs": []
    },
    {
      "cell_type": "code",
      "metadata": {
        "id": "XnzpP0sBGety"
      },
      "source": [
        "# here is a simplified version of the input function:\n",
        "def check_input():\n",
        "  # it uses only one while loop and is without exception handling\n",
        "  while True:\n",
        "    inputed = input('Press a key: <r>, <p>, <s>, or <q>')\n",
        "    if inputed  in ['p', 'q', 'r', 's']:\n",
        "        return inputed\n",
        "    print('Wrong input!')"
      ],
      "execution_count": null,
      "outputs": []
    },
    {
      "cell_type": "markdown",
      "metadata": {
        "id": "CXS4I_QXEpP9"
      },
      "source": [
        "Start a while loop until pressed key q"
      ]
    },
    {
      "cell_type": "code",
      "metadata": {
        "colab": {
          "base_uri": "https://localhost:8080/"
        },
        "id": "JN44-KFNPMLY",
        "outputId": "f49e8e4c-b1c8-4f84-a570-ce0c40102615"
      },
      "source": [
        "while True:\n",
        "  randomize = randint(1, 3)\n",
        "  print('<r>ock, <p>aper or <s>cissors? Press any key to continue; <q> for exit')\n",
        "  key = check_input()\n",
        "  if key == 'q':\n",
        "    break\n",
        "  # the gameplay function updates the score \n",
        "  играч_точки, комп_точки = gameplay(играч_точки, комп_точки)\n",
        "  print('Score is: YOU ', играч_точки, ' - ', комп_точки, ' COMPUTER')\n",
        "  print('')\n",
        "  key = None\n",
        "\n",
        "print('Goodbye!')"
      ],
      "execution_count": null,
      "outputs": [
        {
          "output_type": "stream",
          "name": "stdout",
          "text": [
            "<r>ock, <p>aper or <s>cissors? Press any key to continue; <q> for exit\n",
            "Press a key: <r>, <p>, <s>, or <q>r\n",
            "Computer played:  scissors\n",
            "you win\n",
            "Score is: YOU  1  -  0  COMPUTER\n",
            "\n",
            "<r>ock, <p>aper or <s>cissors? Press any key to continue; <q> for exit\n",
            "Press a key: <r>, <p>, <s>, or <q>r\n",
            "Computer played:  scissors\n",
            "you win\n",
            "Score is: YOU  2  -  0  COMPUTER\n",
            "\n",
            "<r>ock, <p>aper or <s>cissors? Press any key to continue; <q> for exit\n",
            "Press a key: <r>, <p>, <s>, or <q>r\n",
            "Computer played:  paper\n",
            "comp wins\n",
            "Score is: YOU  2  -  1  COMPUTER\n",
            "\n",
            "<r>ock, <p>aper or <s>cissors? Press any key to continue; <q> for exit\n",
            "Press a key: <r>, <p>, <s>, or <q>s\n",
            "Computer played:  paper\n",
            "you win\n",
            "Score is: YOU  3  -  1  COMPUTER\n",
            "\n",
            "<r>ock, <p>aper or <s>cissors? Press any key to continue; <q> for exit\n",
            "Press a key: <r>, <p>, <s>, or <q>q\n",
            "Goodbye!\n"
          ]
        }
      ]
    },
    {
      "cell_type": "code",
      "metadata": {
        "colab": {
          "base_uri": "https://localhost:8080/"
        },
        "id": "6-wMGIwV6mmT",
        "outputId": "86c32218-a364-49a9-c638-34fd37ffcf2e"
      },
      "source": [
        "# simplified version:\n",
        "from random import randint\n",
        "\n",
        "player_score = 0\n",
        "comp_score = 0\n",
        "key = None\n",
        "\n",
        "combinations = {'r-s': 'rock breaks scissors', 'p-r': 'paper envelopes rock', 's-p': 'scissors cut paper'}\n",
        "items = ['rock', 'paper', 'scissors']\n",
        "\n",
        "def gameplay(player_score, comp_score):\n",
        "  comp_move = items[randomize]\n",
        "  battle = key + '-' + comp_move[0]\n",
        "\n",
        "  for word in items:\n",
        "    if items.index(word) == randomize:\n",
        "      print('Computer played: ', word)\n",
        "\n",
        "  for c in combinations:\n",
        "    if battle == c:\n",
        "      print('you win')\n",
        "      player_score = player_score + 1\n",
        "    elif battle[::-1] == c:\n",
        "      print('comp wins')\n",
        "      comp_score = comp_score + 1\n",
        "    elif key == comp_move:\n",
        "      print('noone wins')\n",
        "      break\n",
        "  \n",
        "  return player_score, comp_score\n",
        "\n",
        "def check_input():\n",
        "  while True:\n",
        "    inputed = input('Press a key: <r>, <p>, <s>, or <q>')\n",
        "    if inputed  in ['p', 'q', 'r', 's']:\n",
        "        return inputed\n",
        "    print('Wrong input!')\n",
        "\n",
        "while True:\n",
        "  randomize = randint(0, 2)\n",
        "  print('<r>ock, <p>aper or <s>cissors? Press any key to continue; <q> for exit')\n",
        "  key = check_input()\n",
        "  if key == 'q':\n",
        "    break\n",
        "  player_score, comp_score = gameplay(player_score, comp_score)\n",
        "  print('Score is: YOU ', player_score, ' - ', comp_score, ' COMPUTER')\n",
        "  print('')\n",
        "  key = None\n",
        "\n",
        "print('Goodbye!')"
      ],
      "execution_count": null,
      "outputs": [
        {
          "output_type": "stream",
          "name": "stdout",
          "text": [
            "<r>ock, <p>aper or <s>cissors? Press any key to continue; <q> for exit\n",
            "Press a key: <r>, <p>, <s>, or <q>r\n",
            "Computer played:  paper\n",
            "comp wins\n",
            "Score is: YOU  0  -  1  COMPUTER\n",
            "\n",
            "<r>ock, <p>aper or <s>cissors? Press any key to continue; <q> for exit\n",
            "Press a key: <r>, <p>, <s>, or <q>r\n",
            "Computer played:  paper\n",
            "comp wins\n",
            "Score is: YOU  0  -  2  COMPUTER\n",
            "\n",
            "<r>ock, <p>aper or <s>cissors? Press any key to continue; <q> for exit\n",
            "Press a key: <r>, <p>, <s>, or <q>s\n",
            "Computer played:  paper\n",
            "you win\n",
            "Score is: YOU  1  -  2  COMPUTER\n",
            "\n",
            "<r>ock, <p>aper or <s>cissors? Press any key to continue; <q> for exit\n",
            "Press a key: <r>, <p>, <s>, or <q>p\n",
            "Computer played:  rock\n",
            "you win\n",
            "Score is: YOU  2  -  2  COMPUTER\n",
            "\n",
            "<r>ock, <p>aper or <s>cissors? Press any key to continue; <q> for exit\n",
            "Press a key: <r>, <p>, <s>, or <q>s\n",
            "Computer played:  scissors\n",
            "Score is: YOU  2  -  2  COMPUTER\n",
            "\n",
            "<r>ock, <p>aper or <s>cissors? Press any key to continue; <q> for exit\n",
            "Press a key: <r>, <p>, <s>, or <q>q\n",
            "Goodbye!\n"
          ]
        }
      ]
    },
    {
      "cell_type": "markdown",
      "metadata": {
        "id": "eWUI1fkJvZQ8"
      },
      "source": [
        "5) Find out, Fibonacci!\n",
        "----------------------------------\n",
        "\n",
        "\n",
        "---\n",
        "This program finds out if the number imputed by the user was from the</br> ***Fibonacci*** sequence.\n",
        "\n",
        "\n",
        "To do so, it implements four different functions within a class, that </br> selects any of them.\n",
        "\n",
        "Each one of these function uses a different algorithm, that has different </br> computational time and calcualtes this time.\n",
        "\n",
        "We compare these functions by the process time required. \n"
      ]
    },
    {
      "cell_type": "markdown",
      "metadata": {
        "id": "R_CjIdGkI_vH"
      },
      "source": [
        "The only library, that we import was the **`process_time`**, because we </br>wanted to calculate the time for calculation of each function."
      ]
    },
    {
      "cell_type": "code",
      "metadata": {
        "id": "qXQdpiXZI-DW"
      },
      "source": [
        "from time import process_time"
      ],
      "execution_count": null,
      "outputs": []
    },
    {
      "cell_type": "markdown",
      "metadata": {
        "id": "hXJ-4C_YKg7Y"
      },
      "source": [
        "We initialize the quit variable, used to monitor if we pressed the q key"
      ]
    },
    {
      "cell_type": "code",
      "metadata": {
        "id": "Lh7NrmuoKd2g"
      },
      "source": [
        "13123\n",
        "\n",
        "quit = False"
      ],
      "execution_count": null,
      "outputs": []
    },
    {
      "cell_type": "markdown",
      "metadata": {
        "id": "_Kd6Rxf3NrYa"
      },
      "source": [
        "A simple function for checking the input and handling the exceptions."
      ]
    },
    {
      "cell_type": "code",
      "metadata": {
        "id": "w5BobBbWNRdt"
      },
      "source": [
        "def check_input():\n",
        "  inputed = None\n",
        "  while True:\n",
        "    try:\n",
        "      inputed = int(input('Enter an integer number: '))\n",
        "      break\n",
        "    except ValueError:\n",
        "      if isinstance(inputed, int) == False:\n",
        "        print('Wrong input! Must be integer!')\n",
        "      else: \n",
        "        print('Error!')\n",
        "  return inputed"
      ],
      "execution_count": null,
      "outputs": []
    },
    {
      "cell_type": "markdown",
      "metadata": {
        "id": "9gpoPIx6Nqt8"
      },
      "source": [
        "Checking the pressed key (q for quit)"
      ]
    },
    {
      "cell_type": "code",
      "metadata": {
        "id": "qZ9ZmgMxNVfr"
      },
      "source": [
        "def press_q():\n",
        "  if input() == 'q':  # if key 'q' is pressed \n",
        "    return True\n",
        "  else:\n",
        "    return False"
      ],
      "execution_count": null,
      "outputs": []
    },
    {
      "cell_type": "markdown",
      "metadata": {
        "id": "SwRLVFPfKr3q"
      },
      "source": [
        "This is a function, that calculates the Fibonacci sequence, based on  </br> ***recursion***. (in other words it return itself)"
      ]
    },
    {
      "cell_type": "code",
      "metadata": {
        "id": "nAqd__GxKp0Z"
      },
      "source": [
        "def simlpe_fib(f):\n",
        "  if f <= 2:\n",
        "    return 1\n",
        "  return simlpe_fib(f-1) + simlpe_fib(f-2)"
      ],
      "execution_count": null,
      "outputs": []
    },
    {
      "cell_type": "markdown",
      "metadata": {
        "id": "0EmBWk8iLF6C"
      },
      "source": [
        "Next, a simple iterative function, on the basis of **`for`** loop"
      ]
    },
    {
      "cell_type": "code",
      "metadata": {
        "id": "Adxmop_ALCOr"
      },
      "source": [
        "# the first number of the sequence is initialised by default\n",
        "def iterative(y, p = 1, q = 1):\n",
        "  for i in range(y - 2): # we have the first two members of the sequence, thus we need the range to be 2 integers shorter\n",
        "    r = p + q\n",
        "    q = p\n",
        "    p = r\n",
        "  return r"
      ],
      "execution_count": null,
      "outputs": []
    },
    {
      "cell_type": "markdown",
      "metadata": {
        "id": "WonecxhYLbmD"
      },
      "source": [
        "This time, the iterative function directly compares the inputed number </br> to the calculated Fibonacci number."
      ]
    },
    {
      "cell_type": "code",
      "metadata": {
        "id": "OnzLdUOaK__-"
      },
      "source": [
        "def iterative_x(j, n = 1, m = 1):\n",
        "  while (j > n + m): # while loop iterates until the Fibonacci number becomes greater than the inputed\n",
        "    o = n + m\n",
        "    m = n\n",
        "    n = o\n",
        "  return j == n + m # finally function returns if the inputed number is equal to the number from the sequence"
      ],
      "execution_count": null,
      "outputs": []
    },
    {
      "cell_type": "markdown",
      "metadata": {
        "id": "H5Vx5jBwMHPS"
      },
      "source": [
        "Finaly, we implement a recursive function, that writes the obtained </br>sequence of numbers in an array."
      ]
    },
    {
      "cell_type": "code",
      "metadata": {
        "id": "8i3NclkgMHXX"
      },
      "source": [
        "def effective_recursion(k, array):\n",
        "  # the initialization of the array with None as the third member is because otherwise it will give outside variable error\n",
        "  if (None == array[k]):\n",
        "    array[k] = effective_recursion(k - 1, array) + effective_recursion(k - 2, array)\n",
        "  return array[k]"
      ],
      "execution_count": null,
      "outputs": []
    },
    {
      "cell_type": "code",
      "metadata": {
        "id": "AC_Wty6ONlCk"
      },
      "source": [
        "import numpy as np\n",
        "import pandas as pd"
      ],
      "execution_count": null,
      "outputs": []
    },
    {
      "cell_type": "code",
      "metadata": {
        "id": "-feagifQp0pO"
      },
      "source": [
        "def recursion_np(k, arr):\n",
        "  if (0 == arr[k]):\n",
        "    arr[k] = recursion_np(k - 1, arr) + recursion_np(k - 2, arr)\n",
        "  return int(arr[k])"
      ],
      "execution_count": null,
      "outputs": []
    },
    {
      "cell_type": "code",
      "metadata": {
        "id": "-GtCVZ8Xp5Dt"
      },
      "source": [
        "def recursion_pdd(k, pp):\n",
        "  if (0 == pp[0][k]):\n",
        "    pp[0][k] = recursion_pdd(k - 1, pp) + recursion_pdd(k - 2, pp)\n",
        "  return pp[0][k]"
      ],
      "execution_count": null,
      "outputs": []
    },
    {
      "cell_type": "markdown",
      "metadata": {
        "id": "6nmzD2vhNsAL"
      },
      "source": [
        "A class function to choose between the different ways for calculation</br>the sequence. We initialize the class with variables by default."
      ]
    },
    {
      "cell_type": "code",
      "metadata": {
        "id": "JTGleDjbNPV2"
      },
      "source": [
        "class Fibonacci_functions:\n",
        "  def __init__(self, number, chosen_function = 0):\n",
        "    a = [1,1,1] + [None] * number\n",
        "    b = np.ones(3)\n",
        "    b = b.astype(np.uint64)\n",
        "    b = np.append(b, [0]*number)\n",
        "    \n",
        "    p = pd.DataFrame(b.astype(np.uint64))\n",
        "    if chosen_function == 0:\n",
        "      self.fibonacci_number = simlpe_fib(number)\n",
        "    elif chosen_function == 1:\n",
        "      self.fibonacci_number = iterative(number)\n",
        "    elif chosen_function == 2:\n",
        "      self.fibonacci_number = effective_recursion(number, a)\n",
        "    elif chosen_function == 3:\n",
        "      self.fibonacci_number = recursion_np(number, b)\n",
        "    elif chosen_function == 4:\n",
        "      self.fibonacci_number = recursion_pdd(number, p)"
      ],
      "execution_count": null,
      "outputs": []
    },
    {
      "cell_type": "markdown",
      "metadata": {
        "id": "rgmp_d5aMi3h"
      },
      "source": [
        "A function, that checks the obtained number form a desired function with </br> the inputed from the user."
      ]
    },
    {
      "cell_type": "code",
      "metadata": {
        "id": "N1w4k7ncMfLL"
      },
      "source": [
        "def check_fibonacci(check_number, c, z = 1):\n",
        "  x = 3  \n",
        "  #a = [1,1,1,None]\n",
        "  # In the while loop we compare if the number is greater, not greater or equal,\n",
        "  # because next time it will calculate the higer number\n",
        "  while (z < check_number): \n",
        "    x +=1\n",
        "    #a = [1,1,1] + [None] * x\n",
        "    #a = np.append(a, 0)\n",
        "    z = Fibonacci_functions(x, c).fibonacci_number\n",
        "  return z == check_number"
      ],
      "execution_count": null,
      "outputs": []
    },
    {
      "cell_type": "markdown",
      "metadata": {
        "id": "IqK9xA47NqGU"
      },
      "source": [
        "Calculating the process time of each function"
      ]
    },
    {
      "cell_type": "code",
      "metadata": {
        "id": "9HwKUU0HNanK"
      },
      "source": [
        "def check_time(num, opt):\n",
        "  tic = process_time()\n",
        "  checked = check_fibonacci(num, opt)\n",
        "  toc = process_time()\n",
        "\n",
        "  return toc - tic, checked"
      ],
      "execution_count": null,
      "outputs": []
    },
    {
      "cell_type": "markdown",
      "metadata": {
        "id": "hI1sX76wO8Au"
      },
      "source": [
        "Final implementation:\n",
        "\n",
        "We do not include one of the four functions, because it has its own </br> condition checker."
      ]
    },
    {
      "cell_type": "code",
      "metadata": {
        "id": "3tWdLTmuvd18",
        "colab": {
          "base_uri": "https://localhost:8080/"
        },
        "outputId": "67591d27-c1d5-4997-d9f7-3ec2db82fa30"
      },
      "source": [
        "while(quit == False):\n",
        "  is_fibonacci = check_input()\n",
        "\n",
        "  # t1, checked = check_time(is_fibonacci, 0) # Very ineffective !!!\n",
        "  t2, check_iter = check_time(is_fibonacci, 1) # Ineffective!\n",
        "\n",
        "  # the most effective\n",
        "  tic = process_time()\n",
        "  iter = iterative_x(is_fibonacci)\n",
        "  toc = process_time()\n",
        "  t3 = (toc-tic)\n",
        "\n",
        "  t4, effective_fib = check_time(is_fibonacci, 2) # somewhat effective\n",
        "  t5, np_fib = check_time(is_fibonacci, 3) # somewhat effective\n",
        "  t6, pd_fib = check_time(is_fibonacci, 4) # somewhat effective\n",
        "\n",
        "  # print('time recursion:                    ', t1)\n",
        "  print('time iterative:                    ', t2)\n",
        "  print('time iterative combined function:  ', t3)\n",
        "  print('time effective recursion:          ', t4)\n",
        "  print('time numpy recursion:              ', t5)\n",
        "  print('time pandas recursion:             ', t6)\n",
        "  # the answers from the four functions\n",
        "  print('Is this number from the Fibonacci sequence? ', checked, check_iter, iter, effective_fib, np_fib, pd_fib)\n",
        "  print('Press any key to continue; <q> for exit')\n",
        "  quit = press_q()\n",
        "\n",
        "print('Goodbye!')"
      ],
      "execution_count": null,
      "outputs": [
        {
          "output_type": "stream",
          "name": "stdout",
          "text": [
            "Enter an integer number: 144\n",
            "time iterative:                     0.0020688250000091557\n",
            "time iterative combined function:   4.911999994305916e-06\n",
            "time effective recursion:           0.0025783610000047474\n",
            "time numpy recursion:               0.0014899859999957243\n",
            "time pandas recursion:              0.009996906000012018\n",
            "Is this number from the Fibonacci sequence?  True True True True True True\n",
            "Press any key to continue; <q> for exit\n",
            "\n",
            "Enter an integer number: 7778742049\n",
            "time iterative:                     0.007014469999987227\n",
            "time iterative combined function:   7.855999996309038e-06\n",
            "time effective recursion:           0.005540177999989737\n",
            "time numpy recursion:               0.007559209000007172\n",
            "time pandas recursion:              0.16711265200000014\n",
            "Is this number from the Fibonacci sequence?  True True True True True True\n",
            "Press any key to continue; <q> for exit\n",
            "q\n",
            "Goodbye!\n"
          ]
        }
      ]
    },
    {
      "cell_type": "markdown",
      "metadata": {
        "id": "G7XUffP2P4M5"
      },
      "source": [
        "Conclusion: the function which is the most effective is the combined </br>iterative that simultaneously compares the numbers."
      ]
    },
    {
      "cell_type": "code",
      "metadata": {
        "colab": {
          "base_uri": "https://localhost:8080/",
          "height": 1000
        },
        "id": "5nQfSPKJztcH",
        "outputId": "34b53ef7-b0e4-4f46-9b4f-88caaefb8cf3"
      },
      "source": [
        "! pip install -U featuretools"
      ],
      "execution_count": 3,
      "outputs": [
        {
          "output_type": "stream",
          "name": "stdout",
          "text": [
            "Collecting featuretools\n",
            "  Downloading featuretools-1.2.0-py3-none-any.whl (335 kB)\n",
            "\u001b[K     |████████████████████████████████| 335 kB 30.3 MB/s \n",
            "\u001b[?25hCollecting dask[dataframe]>=2021.10.0\n",
            "  Downloading dask-2021.11.2-py3-none-any.whl (1.0 MB)\n",
            "\u001b[K     |████████████████████████████████| 1.0 MB 36.6 MB/s \n",
            "\u001b[?25hCollecting distributed>=2021.10.0\n",
            "  Downloading distributed-2021.11.2-py3-none-any.whl (802 kB)\n",
            "\u001b[K     |████████████████████████████████| 802 kB 57.1 MB/s \n",
            "\u001b[?25hCollecting pandas<2.0.0,>=1.3.0\n",
            "  Downloading pandas-1.3.4-cp37-cp37m-manylinux_2_17_x86_64.manylinux2014_x86_64.whl (11.3 MB)\n",
            "\u001b[K     |████████████████████████████████| 11.3 MB 34.0 MB/s \n",
            "\u001b[?25hRequirement already satisfied: click>=7.0.0 in /usr/local/lib/python3.7/dist-packages (from featuretools) (7.1.2)\n",
            "Requirement already satisfied: numpy>=1.18.0 in /usr/local/lib/python3.7/dist-packages (from featuretools) (1.19.5)\n",
            "Requirement already satisfied: tqdm>=4.32.0 in /usr/local/lib/python3.7/dist-packages (from featuretools) (4.62.3)\n",
            "Collecting cloudpickle>=1.5.0\n",
            "  Downloading cloudpickle-2.0.0-py3-none-any.whl (25 kB)\n",
            "Collecting woodwork>=0.8.1\n",
            "  Downloading woodwork-0.9.1-py3-none-any.whl (150 kB)\n",
            "\u001b[K     |████████████████████████████████| 150 kB 59.7 MB/s \n",
            "\u001b[?25hRequirement already satisfied: scipy>=1.3.2 in /usr/local/lib/python3.7/dist-packages (from featuretools) (1.4.1)\n",
            "Collecting pyyaml>=5.4\n",
            "  Downloading PyYAML-6.0-cp37-cp37m-manylinux_2_5_x86_64.manylinux1_x86_64.manylinux_2_12_x86_64.manylinux2010_x86_64.whl (596 kB)\n",
            "\u001b[K     |████████████████████████████████| 596 kB 40.5 MB/s \n",
            "\u001b[?25hCollecting psutil>=5.6.6\n",
            "  Downloading psutil-5.8.0-cp37-cp37m-manylinux2010_x86_64.whl (296 kB)\n",
            "\u001b[K     |████████████████████████████████| 296 kB 46.7 MB/s \n",
            "\u001b[?25hRequirement already satisfied: toolz>=0.8.2 in /usr/local/lib/python3.7/dist-packages (from dask[dataframe]>=2021.10.0->featuretools) (0.11.2)\n",
            "Requirement already satisfied: packaging>=20.0 in /usr/local/lib/python3.7/dist-packages (from dask[dataframe]>=2021.10.0->featuretools) (21.3)\n",
            "Collecting partd>=0.3.10\n",
            "  Downloading partd-1.2.0-py3-none-any.whl (19 kB)\n",
            "Collecting fsspec>=0.6.0\n",
            "  Downloading fsspec-2021.11.0-py3-none-any.whl (132 kB)\n",
            "\u001b[K     |████████████████████████████████| 132 kB 59.1 MB/s \n",
            "\u001b[?25hRequirement already satisfied: msgpack>=0.6.0 in /usr/local/lib/python3.7/dist-packages (from distributed>=2021.10.0->featuretools) (1.0.2)\n",
            "Requirement already satisfied: zict>=0.1.3 in /usr/local/lib/python3.7/dist-packages (from distributed>=2021.10.0->featuretools) (2.0.0)\n",
            "Requirement already satisfied: setuptools in /usr/local/lib/python3.7/dist-packages (from distributed>=2021.10.0->featuretools) (57.4.0)\n",
            "Requirement already satisfied: tblib>=1.6.0 in /usr/local/lib/python3.7/dist-packages (from distributed>=2021.10.0->featuretools) (1.7.0)\n",
            "Requirement already satisfied: jinja2 in /usr/local/lib/python3.7/dist-packages (from distributed>=2021.10.0->featuretools) (2.11.3)\n",
            "Requirement already satisfied: tornado>=5 in /usr/local/lib/python3.7/dist-packages (from distributed>=2021.10.0->featuretools) (5.1.1)\n",
            "Requirement already satisfied: sortedcontainers!=2.0.0,!=2.0.1 in /usr/local/lib/python3.7/dist-packages (from distributed>=2021.10.0->featuretools) (2.4.0)\n",
            "Requirement already satisfied: pyparsing!=3.0.5,>=2.0.2 in /usr/local/lib/python3.7/dist-packages (from packaging>=20.0->dask[dataframe]>=2021.10.0->featuretools) (3.0.6)\n",
            "Requirement already satisfied: pytz>=2017.3 in /usr/local/lib/python3.7/dist-packages (from pandas<2.0.0,>=1.3.0->featuretools) (2018.9)\n",
            "Requirement already satisfied: python-dateutil>=2.7.3 in /usr/local/lib/python3.7/dist-packages (from pandas<2.0.0,>=1.3.0->featuretools) (2.8.2)\n",
            "Collecting locket\n",
            "  Downloading locket-0.2.1-py2.py3-none-any.whl (4.1 kB)\n",
            "Requirement already satisfied: six>=1.5 in /usr/local/lib/python3.7/dist-packages (from python-dateutil>=2.7.3->pandas<2.0.0,>=1.3.0->featuretools) (1.15.0)\n",
            "Requirement already satisfied: scikit-learn>=0.22 in /usr/local/lib/python3.7/dist-packages (from woodwork>=0.8.1->featuretools) (1.0.1)\n",
            "Requirement already satisfied: threadpoolctl>=2.0.0 in /usr/local/lib/python3.7/dist-packages (from scikit-learn>=0.22->woodwork>=0.8.1->featuretools) (3.0.0)\n",
            "Requirement already satisfied: joblib>=0.11 in /usr/local/lib/python3.7/dist-packages (from scikit-learn>=0.22->woodwork>=0.8.1->featuretools) (1.1.0)\n",
            "Requirement already satisfied: heapdict in /usr/local/lib/python3.7/dist-packages (from zict>=0.1.3->distributed>=2021.10.0->featuretools) (1.0.1)\n",
            "Requirement already satisfied: MarkupSafe>=0.23 in /usr/local/lib/python3.7/dist-packages (from jinja2->distributed>=2021.10.0->featuretools) (2.0.1)\n",
            "Installing collected packages: locket, pyyaml, partd, fsspec, cloudpickle, psutil, pandas, dask, woodwork, distributed, featuretools\n",
            "  Attempting uninstall: pyyaml\n",
            "    Found existing installation: PyYAML 3.13\n",
            "    Uninstalling PyYAML-3.13:\n",
            "      Successfully uninstalled PyYAML-3.13\n",
            "  Attempting uninstall: cloudpickle\n",
            "    Found existing installation: cloudpickle 1.3.0\n",
            "    Uninstalling cloudpickle-1.3.0:\n",
            "      Successfully uninstalled cloudpickle-1.3.0\n",
            "  Attempting uninstall: psutil\n",
            "    Found existing installation: psutil 5.4.8\n",
            "    Uninstalling psutil-5.4.8:\n",
            "      Successfully uninstalled psutil-5.4.8\n",
            "  Attempting uninstall: pandas\n",
            "    Found existing installation: pandas 1.1.5\n",
            "    Uninstalling pandas-1.1.5:\n",
            "      Successfully uninstalled pandas-1.1.5\n",
            "  Attempting uninstall: dask\n",
            "    Found existing installation: dask 2.12.0\n",
            "    Uninstalling dask-2.12.0:\n",
            "      Successfully uninstalled dask-2.12.0\n",
            "  Attempting uninstall: distributed\n",
            "    Found existing installation: distributed 1.25.3\n",
            "    Uninstalling distributed-1.25.3:\n",
            "      Successfully uninstalled distributed-1.25.3\n",
            "\u001b[31mERROR: pip's dependency resolver does not currently take into account all the packages that are installed. This behaviour is the source of the following dependency conflicts.\n",
            "gym 0.17.3 requires cloudpickle<1.7.0,>=1.2.0, but you have cloudpickle 2.0.0 which is incompatible.\n",
            "google-colab 1.0.0 requires pandas~=1.1.0; python_version >= \"3.0\", but you have pandas 1.3.4 which is incompatible.\u001b[0m\n",
            "Successfully installed cloudpickle-2.0.0 dask-2021.11.2 distributed-2021.11.2 featuretools-1.2.0 fsspec-2021.11.0 locket-0.2.1 pandas-1.3.4 partd-1.2.0 psutil-5.8.0 pyyaml-6.0 woodwork-0.9.1\n"
          ]
        },
        {
          "output_type": "display_data",
          "data": {
            "application/vnd.colab-display-data+json": {
              "pip_warning": {
                "packages": [
                  "pandas",
                  "psutil"
                ]
              }
            }
          },
          "metadata": {}
        }
      ]
    },
    {
      "cell_type": "markdown",
      "metadata": {
        "id": "cCAHX6E1QOoD"
      },
      "source": [
        "Lastly, a very simple, but powerfull program for </br>guessing numbers from the Fibonacci sequence.\n",
        "\n",
        "It reads a file with numbers up to the 500th member of </br>the sequence, stored inside it.\n",
        "\n",
        "The program is so fast, because it does not calculate </br>the number, it rather checks if it can be found </br>inside the generated array. "
      ]
    },
    {
      "cell_type": "code",
      "metadata": {
        "colab": {
          "base_uri": "https://localhost:8080/"
        },
        "id": "DSEnK8Ubw_W_",
        "outputId": "250ac7eb-568b-4c7c-d9ae-3fcd37510399"
      },
      "source": [
        "from time import process_time\n",
        "\n",
        "fib_seq = []\n",
        "\n",
        "f = open(\"fib.txt\", \"r\")\n",
        "\n",
        "while(True):\n",
        "  #read next line\n",
        "  line = str(f.readline())\n",
        "  if line != '':\n",
        "    res = line.split()\n",
        "    fib_seq.append(res[1])\n",
        "  #if line is empty, you are done with all lines in the file\n",
        "  else:\n",
        "    break\n",
        "f.close\n",
        "\n",
        "fibonacci = str(input())\n",
        "\n",
        "tic = process_time()\n",
        "try: # simple exception handling to both catch the errors and check if the number is inside the array\n",
        "  index = fib_seq.index(fibonacci) + 1\n",
        "  print('The inputed integer is the ', index, 'th number from the Fibonacci sequence!')\n",
        "except ValueError:\n",
        "  print('Not in the sequence!')\n",
        "toc = process_time()\n",
        "t = (toc-tic)\n",
        "\n",
        "print('time: ', t)"
      ],
      "execution_count": 72,
      "outputs": [
        {
          "output_type": "stream",
          "name": "stdout",
          "text": [
            "2967795697064976427862421836334141336150900792786444618288545455102252664927332007624673682829385529104\n",
            "The inputed integer is the  492 th number from the Fibonacci sequence!\n",
            "time:  0.0003976740000020129\n"
          ]
        }
      ]
    }
  ]
}